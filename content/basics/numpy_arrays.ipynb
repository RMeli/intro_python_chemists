{
 "cells": [
  {
   "cell_type": "markdown",
   "metadata": {},
   "source": [
    "### Prerequisites \n",
    "\n",
    "- Types\n",
    "- Collections\n",
    "\n",
    "# NumPy Arrays"
   ]
  },
  {
   "cell_type": "markdown",
   "metadata": {},
   "source": [
    "In the previous tutorial, we were introduced to collections in the form of lists, tuples, and dictionaries. The python package NumPy provides a further example of a collection: an array. Arrays are collections which are engineered to easily and efficiently facilitate calculations. \n",
    "\n",
    "For example, say we have conducted an experiment to determine the melting point of water. We have repeated this experiment 10 times to obtain a more accurate calculation of the melting point. The results from the experiment can be observed in the table below. \n",
    "\n",
    "| Experiment       | Melting Point ($^{\\circ}$C)  |\n",
    "| ------------- |:-------------:|\n",
    "| 1      | 99.5 $\\pm$ 0.1|\n",
    "| 2      |   99.9  $\\pm$ 0.1  |\n",
    "| 3 |   99.6  $\\pm$ 0.1  |\n",
    "| 4 |   99.3  $\\pm$ 0.1  |\n",
    "| 5 |    99.7 $\\pm$ 0.1  |\n",
    "| 6 |   99.4   $\\pm$ 0.1 |\n",
    "| 7 |    99.4  $\\pm$ 0.1 |\n",
    "| 8 |    99.5  $\\pm$ 0.1 |\n",
    "| 9 |    99.3  $\\pm$ 0.1 |\n",
    "| 10 |   99.7  $\\pm$ 0.1  |\n"
   ]
  },
  {
   "cell_type": "markdown",
   "metadata": {},
   "source": [
    "### Importing NumPy & creating an array"
   ]
  },
  {
   "cell_type": "code",
   "execution_count": 1,
   "metadata": {
    "ExecuteTime": {
     "end_time": "2020-05-03T17:23:26.266233Z",
     "start_time": "2020-05-03T17:23:26.052585Z"
    }
   },
   "outputs": [],
   "source": [
    "import numpy"
   ]
  },
  {
   "cell_type": "markdown",
   "metadata": {},
   "source": [
    "Now that we have imported the NumPy package we can create a NumPy array for the melting point data collected during our experiment."
   ]
  },
  {
   "cell_type": "code",
   "execution_count": 2,
   "metadata": {
    "ExecuteTime": {
     "end_time": "2020-05-03T17:23:26.271913Z",
     "start_time": "2020-05-03T17:23:26.268125Z"
    }
   },
   "outputs": [],
   "source": [
    "melting_point_data = numpy.array([99.5, 99.9, 99.6, 99.3, 99.7, 99.4, 99.4, 99.5, 99.3, 99.7])"
   ]
  },
  {
   "cell_type": "markdown",
   "metadata": {},
   "source": [
    "### Indexing\n",
    "\n",
    "The indexing of arrays is identical to the indexing of lists. For example, if we wanted to access the melting point calculated in the sixth experiment one could use"
   ]
  },
  {
   "cell_type": "code",
   "execution_count": 3,
   "metadata": {
    "ExecuteTime": {
     "end_time": "2020-05-03T17:23:26.279590Z",
     "start_time": "2020-05-03T17:23:26.274561Z"
    }
   },
   "outputs": [
    {
     "name": "stdout",
     "output_type": "stream",
     "text": [
      "99.4\n"
     ]
    }
   ],
   "source": [
    "print(melting_point_data[5]) # recall indexing starts at zero in python"
   ]
  },
  {
   "cell_type": "markdown",
   "metadata": {},
   "source": [
    "or if one was only interested in experiments six to ten one could use"
   ]
  },
  {
   "cell_type": "code",
   "execution_count": 4,
   "metadata": {
    "ExecuteTime": {
     "end_time": "2020-05-03T17:23:26.291698Z",
     "start_time": "2020-05-03T17:23:26.283151Z"
    }
   },
   "outputs": [
    {
     "name": "stdout",
     "output_type": "stream",
     "text": [
      "[99.4 99.4 99.5 99.3 99.7]\n"
     ]
    }
   ],
   "source": [
    "print(melting_point_data[5:])"
   ]
  },
  {
   "cell_type": "markdown",
   "metadata": {},
   "source": [
    "### Broadcasting\n",
    "\n",
    "Following the experiment, we realise that the electric thermometer we have been using is miscalibrated by -0.5 $^{\\circ}$C. If we were using a list, float, or dictionary then we would have to manually add 0.5 $^{\\circ}$C to each value. However, a NumPy array allows this error to be corrected more simply. "
   ]
  },
  {
   "cell_type": "code",
   "execution_count": 5,
   "metadata": {
    "ExecuteTime": {
     "end_time": "2020-05-03T17:23:26.303771Z",
     "start_time": "2020-05-03T17:23:26.295793Z"
    }
   },
   "outputs": [
    {
     "name": "stdout",
     "output_type": "stream",
     "text": [
      "[100.  100.4 100.1  99.8 100.2  99.9  99.9 100.   99.8 100.2]\n"
     ]
    }
   ],
   "source": [
    "corrected_melting_point_data = melting_point_data + 0.5\n",
    "\n",
    "print(corrected_melting_point_data)"
   ]
  },
  {
   "cell_type": "markdown",
   "metadata": {},
   "source": [
    "The addition operator has been \"broadcasted\" to each element of the array. This \"broadcasting\" capability can also be utilised for subtraction, multiplication, and division. This is illustrated below"
   ]
  },
  {
   "cell_type": "code",
   "execution_count": 6,
   "metadata": {
    "ExecuteTime": {
     "end_time": "2020-05-03T17:23:26.313972Z",
     "start_time": "2020-05-03T17:23:26.308114Z"
    }
   },
   "outputs": [
    {
     "name": "stdout",
     "output_type": "stream",
     "text": [
      "Subtracting 0.5 from the original melting point data results in:\n",
      "[99.  99.4 99.1 98.8 99.2 98.9 98.9 99.  98.8 99.2]\n"
     ]
    }
   ],
   "source": [
    "subtraction_example = melting_point_data - 0.5 \n",
    "\n",
    "print( \"Subtracting 0.5 from the original melting point data results in:\")\n",
    "print(subtraction_example)"
   ]
  },
  {
   "cell_type": "code",
   "execution_count": 7,
   "metadata": {
    "ExecuteTime": {
     "end_time": "2020-05-03T17:23:26.324863Z",
     "start_time": "2020-05-03T17:23:26.316791Z"
    }
   },
   "outputs": [
    {
     "name": "stdout",
     "output_type": "stream",
     "text": [
      "Multiplying the original melting point data by two results in:\n",
      "[199.  199.8 199.2 198.6 199.4 198.8 198.8 199.  198.6 199.4]\n"
     ]
    }
   ],
   "source": [
    "multiplication_example = melting_point_data * 2\n",
    "\n",
    "print( \"Multiplying the original melting point data by two results in:\")\n",
    "print(multiplication_example)"
   ]
  },
  {
   "cell_type": "code",
   "execution_count": 8,
   "metadata": {
    "ExecuteTime": {
     "end_time": "2020-05-03T17:23:26.336392Z",
     "start_time": "2020-05-03T17:23:26.329536Z"
    }
   },
   "outputs": [
    {
     "name": "stdout",
     "output_type": "stream",
     "text": [
      "Dividing the original melting point data by 2 results in:\n",
      "[49.75 49.95 49.8  49.65 49.85 49.7  49.7  49.75 49.65 49.85]\n"
     ]
    }
   ],
   "source": [
    "division_example = melting_point_data / 2\n",
    "\n",
    "print( \"Dividing the original melting point data by 2 results in:\")\n",
    "print(division_example)"
   ]
  },
  {
   "cell_type": "markdown",
   "metadata": {},
   "source": [
    "### Basic NumPy functions\n",
    "\n",
    "The use of a NumPy array allows us to calculate some basic properties of our data. For example let's determine the mean and median of our data. "
   ]
  },
  {
   "cell_type": "code",
   "execution_count": 9,
   "metadata": {
    "ExecuteTime": {
     "end_time": "2020-05-03T17:23:26.351301Z",
     "start_time": "2020-05-03T17:23:26.343358Z"
    }
   },
   "outputs": [
    {
     "name": "stdout",
     "output_type": "stream",
     "text": [
      "The mean of our data is  100.03 degrees Celsius.\n",
      "The median of our data is  100.0 degrees Celsius.\n"
     ]
    }
   ],
   "source": [
    "mean = numpy.mean(corrected_melting_point_data)\n",
    "median = numpy.median(corrected_melting_point_data)\n",
    "\n",
    "print(\"The mean of our data is \", mean, \"degrees Celsius.\")\n",
    "print(\"The median of our data is \", median, \"degrees Celsius.\")"
   ]
  },
  {
   "cell_type": "markdown",
   "metadata": {},
   "source": [
    "It can be seen the mean and median melting points determined by our ten experiments are 100.03 $^{o}$C and 100.0 $^{o}$C respectively. To obtain the mean and median values we had to utilise the mean and median functions inside the numpy package. This was indicated by numpy.mean and numpy.median . The word before the dot is the package we wish to use, and the word after the dot is the function we wish to use.  \n",
    "\n",
    "NumPy is a very common package in python. It can become laborious writing numpy.function whenever we wish to utilise one of its functions. Programmers often look to be as efficient as possible with their time and use the following to reduce what they have to type"
   ]
  },
  {
   "cell_type": "code",
   "execution_count": 10,
   "metadata": {
    "ExecuteTime": {
     "end_time": "2020-05-03T17:23:26.363042Z",
     "start_time": "2020-05-03T17:23:26.354305Z"
    }
   },
   "outputs": [
    {
     "name": "stdout",
     "output_type": "stream",
     "text": [
      "The mean of our data is  100.03 degrees Celsius.\n",
      "The median of our data is  100.0 degrees Celsius.\n"
     ]
    }
   ],
   "source": [
    "import numpy as np\n",
    "\n",
    "mean = np.mean(corrected_melting_point_data)\n",
    "median = np.median(corrected_melting_point_data)\n",
    "\n",
    "print(\"The mean of our data is \", mean, \"degrees Celsius.\")\n",
    "print(\"The median of our data is \", median, \"degrees Celsius.\")"
   ]
  },
  {
   "cell_type": "markdown",
   "metadata": {},
   "source": [
    "The first line in the above cell merely allows us to write np instead of numpy every time we wish to use the NumPy package. This may seem frivolous, however as you will see in future tutorials this can save a lot of time when using packages with much longer names. \n",
    "\n",
    "### Two-dimensional arrays\n",
    "\n",
    "In the above example we explored how NumPy arrays can be used to store experimental data and correct a miscalibration issue in a one-dimensional array. What if we wanted to store the trajectory of a particle, for example:\n",
    "\n",
    "| Time  / s     | x / nm  | y / nm  | z / nm  |\n",
    "| ------------- |:-------------:|:-------:|:------:\n",
    "| 0      |  0 | 0  | 0  |\n",
    "| 1      |  1 | 2  |  1 |\n",
    "| 2      |  -1 | 3  | 4  |\n",
    "| 3      | -2  | -3  | -5  |\n",
    "| 4      |3  |  -2 |  3 |\n",
    "| 5      |  4 | -1  | 0  |\n",
    "\n",
    "NumPy allows for multi-dimensional arrays. We could store this in a 6 x 4 array such that"
   ]
  },
  {
   "cell_type": "code",
   "execution_count": 11,
   "metadata": {
    "ExecuteTime": {
     "end_time": "2020-05-03T17:23:26.372703Z",
     "start_time": "2020-05-03T17:23:26.366079Z"
    }
   },
   "outputs": [],
   "source": [
    "trajectory = np.array([[0,0,0,0],\n",
    "                       [1,1,2,1],\n",
    "                       [2,-1,3,4],\n",
    "                       [3,-2,-3,-5],\n",
    "                      [4,3,-2,3],\n",
    "                      [5,4,-1,0]])"
   ]
  },
  {
   "cell_type": "markdown",
   "metadata": {},
   "source": [
    "In the above 6 x 4 array, the first item is the time and the second, third and fourth items are the x, y, and z coordinates respectively. \n",
    "\n",
    "Again the indexing of the multi-dimensional array works the same as for lists. If we wanted to identify where the particle was after three seconds one could use"
   ]
  },
  {
   "cell_type": "code",
   "execution_count": 12,
   "metadata": {
    "ExecuteTime": {
     "end_time": "2020-05-03T17:23:26.394695Z",
     "start_time": "2020-05-03T17:23:26.376334Z"
    }
   },
   "outputs": [
    {
     "data": {
      "text/plain": [
       "array([ 3, -2, -3, -5])"
      ]
     },
     "execution_count": 12,
     "metadata": {},
     "output_type": "execute_result"
    }
   ],
   "source": [
    "trajectory[3]"
   ]
  },
  {
   "cell_type": "markdown",
   "metadata": {},
   "source": [
    "<img src=\"../images/indexing_array_3.png\" alt=\"drawing\" width=\"400\"/>\n",
    "\n",
    "which indicates the particle was at [-2,-3,-5] after three seconds. If one wished to know the y coordinate after two seconds, one could use"
   ]
  },
  {
   "cell_type": "code",
   "execution_count": 13,
   "metadata": {
    "ExecuteTime": {
     "end_time": "2020-05-03T17:23:26.404011Z",
     "start_time": "2020-05-03T17:23:26.397718Z"
    }
   },
   "outputs": [
    {
     "data": {
      "text/plain": [
       "3"
      ]
     },
     "execution_count": 13,
     "metadata": {},
     "output_type": "execute_result"
    }
   ],
   "source": [
    "trajectory[2][2]"
   ]
  },
  {
   "cell_type": "markdown",
   "metadata": {},
   "source": [
    "<img src=\"../images/indexing_array_2_2.png\" alt=\"drawing\" width=\"400\"/>\n",
    "\n",
    "If, for some reason, we wished to study the trajectory along the z coordinate only then NumPy allows us to access this information easily using"
   ]
  },
  {
   "cell_type": "code",
   "execution_count": 16,
   "metadata": {
    "ExecuteTime": {
     "end_time": "2020-05-03T17:29:16.555475Z",
     "start_time": "2020-05-03T17:29:16.549626Z"
    }
   },
   "outputs": [
    {
     "data": {
      "text/plain": [
       "array([ 0,  1,  4, -5,  3,  0])"
      ]
     },
     "execution_count": 16,
     "metadata": {},
     "output_type": "execute_result"
    }
   ],
   "source": [
    "trajectory[:,3]"
   ]
  },
  {
   "cell_type": "markdown",
   "metadata": {},
   "source": [
    "<img src=\"../images/indexing_array_z.png\" alt=\"drawing\" width=\"400\"/>"
   ]
  },
  {
   "cell_type": "markdown",
   "metadata": {},
   "source": [
    "**Exercise:** Using the boiling point data for ethanol, displayed below, use a one-dimensional array to determine the mean and median of the experimental data collected. \n",
    "\n",
    "| Experiment       | Boiling Point ($^{\\circ}$C)  |\n",
    "| ------------- |:-------------:|\n",
    "| 1      | 78.1 $\\pm$ 0.1|\n",
    "| 2      |   78.8  $\\pm$ 0.1  |\n",
    "| 3 |   78.4  $\\pm$ 0.1  |\n",
    "| 4 |   78.6  $\\pm$ 0.1  |\n",
    "| 5 |    78.4 $\\pm$ 0.1  |\n",
    "| 6 |   77.9   $\\pm$ 0.1 |\n",
    "| 7 |    99.4  $\\pm$ 0.1 |\n",
    "| 8 |    78.0  $\\pm$ 0.1 |\n",
    "| 9 |    78.7  $\\pm$ 0.1 |\n",
    "| 10 |   78.4  $\\pm$ 0.1  |\n",
    "\n",
    "Following this, create a 3 x 3 array for the coordinates of the atoms in a molecule of carbon dioxide displayed below\n",
    "\n",
    "| Atom    | x / Angstroms  | y / Angstroms  | z / Angstroms  |\n",
    "| ------------- |:-------------:|:-------:|:------:\n",
    "| C      |  0 | 0  | 0  |\n",
    "| 01      |  -1.16 | 0  | 0   |\n",
    "| 02      | 0  | 0  |  +1.16 |\n"
   ]
  },
  {
   "cell_type": "code",
   "execution_count": 15,
   "metadata": {
    "ExecuteTime": {
     "end_time": "2020-05-03T17:23:26.421014Z",
     "start_time": "2020-05-03T17:23:26.417948Z"
    }
   },
   "outputs": [],
   "source": [
    "# Write your code here"
   ]
  },
  {
   "cell_type": "markdown",
   "metadata": {},
   "source": [
    "For functions that are not built into an imported module you will be required to write your own. In the following tutorial you will learn how to do just this so that you can computationally solve any problem that may come your way. \n",
    "\n",
    "> #### A note on NumPy\n",
    "> This has been a very brief introduction to NumPy. The NumPy module has a lot more to offer than is described here. In future tutorials more of the NumPy module's functionality will be introduced. "
   ]
  }
 ],
 "metadata": {
  "kernelspec": {
   "display_name": "Python 3",
   "language": "python",
   "name": "python3"
  },
  "language_info": {
   "codemirror_mode": {
    "name": "ipython",
    "version": 3
   },
   "file_extension": ".py",
   "mimetype": "text/x-python",
   "name": "python",
   "nbconvert_exporter": "python",
   "pygments_lexer": "ipython3",
   "version": "3.7.3"
  }
 },
 "nbformat": 4,
 "nbformat_minor": 4
}
