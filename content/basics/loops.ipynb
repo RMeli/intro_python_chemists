{
 "cells": [
  {
   "cell_type": "markdown",
   "metadata": {},
   "source": [
    "### Pre-requisites\n",
    "\n",
    "- Types\n",
    "- Collections\n",
    "- Flow Control\n",
    "- And/Or logic\n",
    "- Functions"
   ]
  },
  {
   "cell_type": "markdown",
   "metadata": {},
   "source": [
    "# Loops"
   ]
  },
  {
   "cell_type": "markdown",
   "metadata": {
    "ExecuteTime": {
     "end_time": "2020-04-04T10:48:53.377580Z",
     "start_time": "2020-04-04T10:48:53.371885Z"
    }
   },
   "source": [
    "The use of loops in python can reduce recursive tasks to a few lines of code. While numpy operations are useful for enacting large numbers of mathematical operations, loops can be used to facilitate the use of large numbers of other operations on data types suchs as:\n",
    "- dictionaries \n",
    "- lists\n",
    "- NumPy arrays\n",
    "\n",
    "Loops make use of `for` and `while` statements to manipulate data. In this tutorial, the use of loops, facilitated by the use of `for` and `while` statements, on these data types will be illustrated.\n"
   ]
  },
  {
   "cell_type": "markdown",
   "metadata": {},
   "source": [
    "### Loops use in combination with dictionaries \n",
    "\n",
    "In the previous tutorial, on Boolean logic statements, we ilustrated that we could determine whether lithium was liquid at 700 K using the following python code"
   ]
  },
  {
   "cell_type": "code",
   "execution_count": 1,
   "metadata": {
    "ExecuteTime": {
     "end_time": "2020-04-04T14:38:42.164222Z",
     "start_time": "2020-04-04T14:38:41.405322Z"
    }
   },
   "outputs": [
    {
     "name": "stdout",
     "output_type": "stream",
     "text": [
      "Lithium is liquid at 700 K\n"
     ]
    }
   ],
   "source": [
    "import periodic_table_20 as pt\n",
    "periodic_table_20 = pt.create()\n",
    "\n",
    "if periodic_table_20[\"Li\"][\"melting_point\"] < 700 and periodic_table_20[\"Li\"][\"boiling_point\"] > 700:\n",
    "    print(\"Lithium is liquid at 700 K\")\n",
    "else:\n",
    "    print(\"Lithium is not liquid at 700 K.\")"
   ]
  },
  {
   "cell_type": "markdown",
   "metadata": {},
   "source": [
    "Recall that `perioidic_table_20` is a dictionary of dictionaries, containing the mass, group, period, block, melting  point, and boiling point of the first twenty elements of the periodic table.\n",
    "\n",
    "In the example above, we have used Boolean logic statements to determine whether one element, lithium, is a liquid at 700 K. What if we wanted to determine which of the first twenty elements of the periodic table were liquid at a certain temperature? Would we have to write the above code for twenty different elements?\n",
    "\n",
    "Thankfully not. This task becomes fairly simple with the use of a loop."
   ]
  },
  {
   "cell_type": "code",
   "execution_count": 2,
   "metadata": {
    "ExecuteTime": {
     "end_time": "2020-04-04T14:38:42.342979Z",
     "start_time": "2020-04-04T14:38:42.333134Z"
    }
   },
   "outputs": [
    {
     "name": "stdout",
     "output_type": "stream",
     "text": [
      "H is not liquid at 700 K.\n",
      "He is not liquid at 700 K.\n",
      "Li is liquid at 700 K\n",
      "Be is not liquid at 700 K.\n",
      "B is not liquid at 700 K.\n",
      "C is not liquid at 700 K.\n",
      "N is not liquid at 700 K.\n",
      "O is not liquid at 700 K.\n",
      "F is not liquid at 700 K.\n",
      "Ar is not liquid at 700 K.\n",
      "Na is liquid at 700 K\n",
      "Mg is not liquid at 700 K.\n",
      "Al is not liquid at 700 K.\n",
      "Si is not liquid at 700 K.\n",
      "P is not liquid at 700 K.\n",
      "S is liquid at 700 K\n",
      "Cl is not liquid at 700 K.\n",
      "Ne is not liquid at 700 K.\n",
      "K is liquid at 700 K\n",
      "Ca is not liquid at 700 K.\n"
     ]
    }
   ],
   "source": [
    "for element in periodic_table_20:   # loop through the first twenty elements\n",
    "    if periodic_table_20[element][\"melting_point\"] < 700 and periodic_table_20[element][\"boiling_point\"] > 700:\n",
    "        print(element, \"is liquid at 700 K\") \n",
    "    else:\n",
    "        print(element, \"is not liquid at 700 K.\")"
   ]
  },
  {
   "cell_type": "markdown",
   "metadata": {},
   "source": [
    "From this we have determined that Li, Na, S, and K are liquid at 700 K, whilst the other sixteen elements are not. But how does the loop enable us to see this? To enable us to observe what is happening, we will use "
   ]
  },
  {
   "cell_type": "code",
   "execution_count": 3,
   "metadata": {
    "ExecuteTime": {
     "end_time": "2020-04-04T14:38:43.090456Z",
     "start_time": "2020-04-04T14:38:43.083136Z"
    }
   },
   "outputs": [
    {
     "name": "stdout",
     "output_type": "stream",
     "text": [
      "H\n",
      "He\n",
      "Li\n",
      "Be\n",
      "B\n",
      "C\n",
      "N\n",
      "O\n",
      "F\n",
      "Ar\n",
      "Na\n",
      "Mg\n",
      "Al\n",
      "Si\n",
      "P\n",
      "S\n",
      "Cl\n",
      "Ne\n",
      "K\n",
      "Ca\n"
     ]
    }
   ],
   "source": [
    "for element in periodic_table_20:   # loop through the first twenty elements\n",
    "    print(element)"
   ]
  },
  {
   "cell_type": "markdown",
   "metadata": {},
   "source": [
    "This prints out the symbols of the elements, which are the **keys** of the periodic_table_20 dictionary. In the above code, the `element` code recursively takes on the value of the keys of the periodic_table_20 dictionary,  such that\n",
    "\n",
    "1) The variable `element` becomes \"H\"\n",
    "\n",
    "2) The value of `element` is printed, \"H\"\n",
    "\n",
    "3) The variable `element` becomes \"He\"\n",
    "\n",
    "4) The value of `element` is printed, \"He\"\n",
    "\n",
    "...\n",
    "\n",
    "37) The value of `element` becomes \"K\"\n",
    "\n",
    "38) The value of `element` is printed, \"K\"\n",
    "\n",
    "39) The value of `element` becomes \"Ca\"\n",
    "\n",
    "40) The value of `element` is printed, \"Ca\""
   ]
  },
  {
   "cell_type": "markdown",
   "metadata": {},
   "source": [
    "To illustrated this further, the value of the variable `element` is:"
   ]
  },
  {
   "cell_type": "code",
   "execution_count": 4,
   "metadata": {
    "ExecuteTime": {
     "end_time": "2020-04-04T14:38:44.200435Z",
     "start_time": "2020-04-04T14:38:44.189687Z"
    }
   },
   "outputs": [
    {
     "data": {
      "text/plain": [
       "'Ca'"
      ]
     },
     "execution_count": 4,
     "metadata": {},
     "output_type": "execute_result"
    }
   ],
   "source": [
    "element"
   ]
  },
  {
   "cell_type": "markdown",
   "metadata": {},
   "source": [
    "The value of the variable `element` is now \"Ca\" the last key in our periodic_table_20 dictionary. Now that we have shown that the `for` loop allows us to recursively access the keys of the periodic_table_20 dictionary, we can explain how we determined which elements were liquid at 700 K. The line\n",
    "\n",
    "```python\n",
    "if periodic_table_20[element][\"melting_point\"] < 700 and periodic_table_20[element][\"boiling_point\"] > 700:\n",
    "```\n",
    "\n",
    "access the dictionary containing the information for the value of the variable `element` and extracts the respective melting and boiling points. Using this information the `if/else` statement determines whether the element is a liquid at 700 K. \n",
    "\n",
    "The code used previously prints out twenty lines informing us if an element is liquid at 700 K. This requires us to read twenty lines. A more efficient way of obtaining which elements are liquid at 700 K is to store the information in a list."
   ]
  },
  {
   "cell_type": "code",
   "execution_count": 5,
   "metadata": {
    "ExecuteTime": {
     "end_time": "2020-04-04T14:38:44.810350Z",
     "start_time": "2020-04-04T14:38:44.803937Z"
    }
   },
   "outputs": [
    {
     "name": "stdout",
     "output_type": "stream",
     "text": [
      "The following elements at liquid at 700 K: ['Li', 'Na', 'S', 'K']\n",
      "The following elements are not liquid at 700 K ['H', 'He', 'Be', 'B', 'C', 'N', 'O', 'F', 'Ar', 'Mg', 'Al', 'Si', 'P', 'Cl', 'Ne', 'Ca']\n"
     ]
    }
   ],
   "source": [
    "liquid = []\n",
    "not_liquid = []\n",
    "\n",
    "for element in periodic_table_20:   # loop through the first twenty elements\n",
    "    if periodic_table_20[element][\"melting_point\"] < 700 and periodic_table_20[element][\"boiling_point\"] > 700:\n",
    "        liquid.append(element)   # if the element is a liquid append to the liquid list\n",
    "    else:\n",
    "        not_liquid.append(element)   # if the element is not a liquid append to the not_liquid list\n",
    "        \n",
    "print(\"The following elements at liquid at 700 K:\", liquid)\n",
    "print(\"The following elements are not liquid at 700 K\", not_liquid)"
   ]
  },
  {
   "cell_type": "markdown",
   "metadata": {},
   "source": [
    "This allows us to obtain the information require without reading twenty individual lines. However, if we were asked for the elements at a different temperature, say 1000 K, we would be required to change four numbers (the two logic statements and the two print statements). A more efficient method would be to specify the temperature outside of the for loop, such that"
   ]
  },
  {
   "cell_type": "code",
   "execution_count": 6,
   "metadata": {
    "ExecuteTime": {
     "end_time": "2020-04-04T14:38:45.436484Z",
     "start_time": "2020-04-04T14:38:45.428865Z"
    }
   },
   "outputs": [
    {
     "name": "stdout",
     "output_type": "stream",
     "text": [
      "The following elements at liquid at 1000 K: ['Li', 'Na', 'Mg', 'Al', 'K']\n",
      "The following elements are not liquid at 1000 K ['H', 'He', 'Be', 'B', 'C', 'N', 'O', 'F', 'Ar', 'Si', 'P', 'S', 'Cl', 'Ne', 'Ca']\n"
     ]
    }
   ],
   "source": [
    "liquid = []\n",
    "not_liquid = []\n",
    "temperature = 1000\n",
    "\n",
    "for element in periodic_table_20: # loop through the first twenty elements\n",
    "    if periodic_table_20[element][\"melting_point\"] < temperature and periodic_table_20[element][\"boiling_point\"] > temperature:\n",
    "        liquid.append(element)   # if the element is a liquid append to the liquid list\n",
    "    else:\n",
    "        not_liquid.append(element)   # if the element is not a liquid append to the not_liquid list\n",
    "        \n",
    "print(\"The following elements at liquid at {} K:\".format(temperature), liquid)\n",
    "print(\"The following elements are not liquid at {} K\".format(temperature), not_liquid)"
   ]
  },
  {
   "cell_type": "markdown",
   "metadata": {},
   "source": [
    "We can see that Li, Na, Mg, Al, and K are liquid at 1000 K, and we only required changing one number. \n",
    "\n",
    "### Compound loops used in combination with lists and NumPy arrays\n",
    "\n",
    "More often than not, in chemistry we will be asked to find properties at different temperatures, say every 100 K between 200 K and 1000 K. Can loops help us determine which elements are liquid at different temperatures? Yes, loops can be compounded in such a way that is useful here."
   ]
  },
  {
   "cell_type": "code",
   "execution_count": 7,
   "metadata": {
    "ExecuteTime": {
     "end_time": "2020-04-04T14:38:46.157458Z",
     "start_time": "2020-04-04T14:38:46.148160Z"
    }
   },
   "outputs": [
    {
     "name": "stdout",
     "output_type": "stream",
     "text": [
      "The following elements at liquid at 200.0 K: ['Cl']\n",
      "The following elements at liquid at 300.0 K: []\n",
      "The following elements at liquid at 400.0 K: ['Na', 'P', 'S', 'K']\n",
      "The following elements at liquid at 500.0 K: ['Na', 'P', 'S', 'K']\n",
      "The following elements at liquid at 600.0 K: ['Li', 'Na', 'S', 'K']\n",
      "The following elements at liquid at 700.0 K: ['Li', 'Na', 'S', 'K']\n",
      "The following elements at liquid at 800.0 K: ['Li', 'Na', 'K']\n",
      "The following elements at liquid at 900.0 K: ['Li', 'Na', 'K']\n",
      "The following elements at liquid at 1000.0 K: ['Li', 'Na', 'Mg', 'Al', 'K']\n"
     ]
    }
   ],
   "source": [
    "import numpy as np\n",
    "temperatures = np.linspace(200,1000,9)   # Create an array of temperatures to probe\n",
    "\n",
    "for temperature in temperatures:   # loop through the temperatures\n",
    "    liquid = []    # create a list to store liquid elements at a given temperature\n",
    "    for element in periodic_table_20:   # loop through elements\n",
    "        if periodic_table_20[element][\"melting_point\"] < temperature and periodic_table_20[element][\"boiling_point\"] > temperature:\n",
    "            liquid.append(element)    # if an element is a liquid then append it to the liquid list\n",
    "        \n",
    "    print(\"The following elements at liquid at {} K:\".format(temperature), liquid) # print the elements liquid at given temperature"
   ]
  },
  {
   "cell_type": "markdown",
   "metadata": {},
   "source": [
    "Note in the above code, the non-liquid data is not stored. This is because the only relevant information are the elements that **are** liquid at a given temperature. The `np.linspace(200,1100,100)` function creates a NumPy array of values from 200 to 1000 which has 9 values and are equally separated. What values are the variables `temperature` and `element` taking in the compound loops above? \n",
    "\n",
    "1) The variable `temperature` takes the value 200.\n",
    "\n",
    "2) The variable `liquid` is assigned to an empty list.\n",
    "\n",
    "3) The variable `element` is assigned \"H\", and determined whether it is a liquid at 200 K.\n",
    "\n",
    "4) The variable `element` is assigned \"He\", and determined whether it is a liquid at 200 K.\n",
    "\n",
    "...\n",
    "\n",
    "41) The variable `element` is assigned \"K\", and determined whether it is a liquid at 200 K.\n",
    "\n",
    "42) The variable `element` is assigned \"Ca\", and determined whether it is a liquid at 200 K.\n",
    "\n",
    "43) The `liquid` variable is printed. \n",
    "\n",
    "44) The variable `temperature` takes the value 300. \n",
    "\n",
    "45) The variable `liquid` is assigned to an empty list.\n",
    "\n",
    "46) The variable `element` is assigned \"H\", and determined whether it is a liquid at 300 K.\n",
    "\n",
    "47) The variable `element` is assigned \"He\", and determined whether it is a liquid at 300 K.\n",
    "\n",
    "...\n",
    "\n",
    "The outer loop is only \"run through\" once, whilst the inner loop is \"run through\" an amount of times equal to that of the length of the first loop. To more easily observe this consider the following example which uses a list (that bahaves the same as a NumPy array), where there are only two temperatures (600 K and 1000 K)"
   ]
  },
  {
   "cell_type": "code",
   "execution_count": 8,
   "metadata": {
    "ExecuteTime": {
     "end_time": "2020-04-04T14:38:46.937011Z",
     "start_time": "2020-04-04T14:38:46.924705Z"
    }
   },
   "outputs": [
    {
     "name": "stdout",
     "output_type": "stream",
     "text": [
      "temperature = 600      element = H\n",
      "temperature = 600      element = He\n",
      "temperature = 600      element = Li\n",
      "temperature = 600      element = Be\n",
      "temperature = 600      element = B\n",
      "temperature = 600      element = C\n",
      "temperature = 600      element = N\n",
      "temperature = 600      element = O\n",
      "temperature = 600      element = F\n",
      "temperature = 600      element = Ar\n",
      "temperature = 600      element = Na\n",
      "temperature = 600      element = Mg\n",
      "temperature = 600      element = Al\n",
      "temperature = 600      element = Si\n",
      "temperature = 600      element = P\n",
      "temperature = 600      element = S\n",
      "temperature = 600      element = Cl\n",
      "temperature = 600      element = Ne\n",
      "temperature = 600      element = K\n",
      "temperature = 600      element = Ca\n",
      "temperature = 1000      element = H\n",
      "temperature = 1000      element = He\n",
      "temperature = 1000      element = Li\n",
      "temperature = 1000      element = Be\n",
      "temperature = 1000      element = B\n",
      "temperature = 1000      element = C\n",
      "temperature = 1000      element = N\n",
      "temperature = 1000      element = O\n",
      "temperature = 1000      element = F\n",
      "temperature = 1000      element = Ar\n",
      "temperature = 1000      element = Na\n",
      "temperature = 1000      element = Mg\n",
      "temperature = 1000      element = Al\n",
      "temperature = 1000      element = Si\n",
      "temperature = 1000      element = P\n",
      "temperature = 1000      element = S\n",
      "temperature = 1000      element = Cl\n",
      "temperature = 1000      element = Ne\n",
      "temperature = 1000      element = K\n",
      "temperature = 1000      element = Ca\n"
     ]
    }
   ],
   "source": [
    "temperatures = [600, 1000]\n",
    "\n",
    "for temperature in temperatures:   # loop through the temperatures\n",
    "    for element in periodic_table_20:   # loop through the first twenty elements\n",
    "        print(\"temperature =\", temperature, \"    \", \"element =\", element)"
   ]
  },
  {
   "cell_type": "markdown",
   "metadata": {},
   "source": [
    "Compound loops can have any number of levels. The three level compound loop below illustrates this"
   ]
  },
  {
   "cell_type": "code",
   "execution_count": 9,
   "metadata": {
    "ExecuteTime": {
     "end_time": "2020-04-04T14:38:47.774298Z",
     "start_time": "2020-04-04T14:38:47.767779Z"
    }
   },
   "outputs": [
    {
     "name": "stdout",
     "output_type": "stream",
     "text": [
      "first = First item in the first list / second = First item in the second list / third = First item in the third list\n",
      "first = First item in the first list / second = First item in the second list / third = Second item in the third list\n",
      "first = First item in the first list / second = Second item in the second list / third = First item in the third list\n",
      "first = First item in the first list / second = Second item in the second list / third = Second item in the third list\n",
      "first = Second item in the first list / second = First item in the second list / third = First item in the third list\n",
      "first = Second item in the first list / second = First item in the second list / third = Second item in the third list\n",
      "first = Second item in the first list / second = Second item in the second list / third = First item in the third list\n",
      "first = Second item in the first list / second = Second item in the second list / third = Second item in the third list\n"
     ]
    }
   ],
   "source": [
    "first_list = [\"First item in the first list\", \"Second item in the first list\"]\n",
    "second_list = [\"First item in the second list\", \"Second item in the second list\"]\n",
    "third_list = [\"First item in the third list\", \"Second item in the third list\"]\n",
    "\n",
    "for first in first_list:   # loop through first_list\n",
    "    for second in second_list:   # loop through second_list\n",
    "        for third in third_list:   # loop through third_list \n",
    "            print(\"first =\", first, \"/ second =\", second, \"/ third =\", third)   # print the values of each variable "
   ]
  },
  {
   "cell_type": "markdown",
   "metadata": {},
   "source": [
    "Take a minute to understand how the above three leveled compound list assigns variables.  \n",
    "\n",
    "**Exercise:** Use compound loops to determine which elements are gaseous at temperatures between 100 K and 500 K in intervals of 50 K. "
   ]
  },
  {
   "cell_type": "code",
   "execution_count": 10,
   "metadata": {
    "ExecuteTime": {
     "end_time": "2020-04-04T14:38:48.920916Z",
     "start_time": "2020-04-04T14:38:48.917630Z"
    }
   },
   "outputs": [],
   "source": [
    "### Write your code here"
   ]
  },
  {
   "cell_type": "markdown",
   "metadata": {},
   "source": [
    "### While loops\n",
    "\n",
    "The particle in a box is a well known quantum mechanical problem with well known solutions, namely\n",
    "\n",
    "$$\n",
    "\\begin{align}\n",
    "\\Psi(x) = \\sqrt{\\frac{2}{L}} \\sin\\left(\\frac{n\\pi x}{L} \\right).\n",
    "\\end{align}\n",
    "$$\n",
    "\n",
    "Here $n$ is the principle quantum number and $L$ is the length of the box. The first three solutions to the particle in a box problem, where $L = 1$, can be plotted using either a `for` loop or a `while` loop with the plot_wavefunction problem. The plot_wavefunction function takes two arguments, the principle quantum number and the length of the list. First consider the use of a `for` loop. "
   ]
  },
  {
   "cell_type": "code",
   "execution_count": 12,
   "metadata": {
    "ExecuteTime": {
     "end_time": "2020-04-04T14:38:52.989359Z",
     "start_time": "2020-04-04T14:38:52.603366Z"
    }
   },
   "outputs": [
    {
     "data": {
      "image/png": "[encoded data removed]",
      "text/plain": [
       "<Figure size 432x288 with 1 Axes>"
      ]
     },
     "metadata": {
      "needs_background": "light"
     },
     "output_type": "display_data"
    }
   ],
   "source": [
    "from wavefunction import plot_wavefunction\n",
    "import matplotlib.pyplot as plt\n",
    "\n",
    "n = [1,2,3]                   # the values of n we wish to plot\n",
    "L = 1                         # set length of the box\n",
    "\n",
    "for N in n:\n",
    "    plot_wavefunction(N, L)   # plots each curve recursively\n",
    "plt.show()                    # prints the graph to screen"
   ]
  },
  {
   "cell_type": "markdown",
   "metadata": {},
   "source": [
    "The same plot can be created using a `while` loop"
   ]
  },
  {
   "cell_type": "code",
   "execution_count": 13,
   "metadata": {
    "ExecuteTime": {
     "end_time": "2020-04-04T14:38:54.243872Z",
     "start_time": "2020-04-04T14:38:54.038240Z"
    }
   },
   "outputs": [
    {
     "data": {
      "image/png": "[encoded data removed]",
      "text/plain": [
       "<Figure size 432x288 with 1 Axes>"
      ]
     },
     "metadata": {
      "needs_background": "light"
     },
     "output_type": "display_data"
    }
   ],
   "source": [
    "L = 1                         # set length of box\n",
    "n = 1                         # set initial principle quantum number\n",
    "\n",
    "while n < 4:\n",
    "    plot_wavefunction(n, L)   # plots each curve recursively\n",
    "    n += 1                    # increase the value of n by 1.\n",
    "plt.show()                    # prints the graph to screen"
   ]
  },
  {
   "cell_type": "markdown",
   "metadata": {},
   "source": [
    "What is the process occurring in the `while` loop above?\n",
    "\n",
    "1) The variable L is assigned value 1.\n",
    "\n",
    "2) The variable n is assigned value 1.\n",
    "\n",
    "3) 1 < 4 is evaluated to `True` so the indented code is ran.\n",
    "\n",
    "4) The curve for n=1 is plotted\n",
    "\n",
    "5) The variable n is assigned value 2 (n = n + 1, where n is 1)\n",
    "\n",
    "6) 2 < 4 is evaluated to `True` so the indented code is ran.\n",
    "\n",
    "7) The curve for n=2 is plotted\n",
    "\n",
    "8) The variable n is assigned value 3 (n = n + 1, where n is 2)\n",
    "\n",
    "9) 3 < 4 is evaluated to `True` so the indented code is ran.\n",
    "\n",
    "10) The curve for n=3 is plotted\n",
    "\n",
    "11) The variable n is assigned value 4 (n = n + 1, where n is 3)\n",
    "\n",
    "12) 4 < 4 is evaluated to `False` and the `while` loop is terminated\n",
    "\n",
    "13) The graph is printed to screen.\n",
    "\n",
    ">**Warning:** `while` loops can be very dangerous! If the variable n is not increased by one each time then this loop could run infinitely as there is **never a termination step.** It is recommended to always use a `for` loop instead of a while loop. \n",
    "\n",
    "**Exercise:** Use a `while` loop in combination with an `if` statement to plot the solutions to the particle in a box problem for n greater than 4 and less than 8, with $L=3$, using the plot_wavefunction function. "
   ]
  },
  {
   "cell_type": "code",
   "execution_count": 14,
   "metadata": {
    "ExecuteTime": {
     "end_time": "2020-04-04T14:38:55.833429Z",
     "start_time": "2020-04-04T14:38:55.829580Z"
    }
   },
   "outputs": [],
   "source": [
    "### Write your code here."
   ]
  },
  {
   "cell_type": "code",
   "execution_count": null,
   "metadata": {},
   "outputs": [],
   "source": []
  }
 ],
 "metadata": {
  "kernelspec": {
   "display_name": "Python 3",
   "language": "python",
   "name": "python3"
  },
  "language_info": {
   "codemirror_mode": {
    "name": "ipython",
    "version": 3
   },
   "file_extension": ".py",
   "mimetype": "text/x-python",
   "name": "python",
   "nbconvert_exporter": "python",
   "pygments_lexer": "ipython3",
   "version": "3.7.3"
  }
 },
 "nbformat": 4,
 "nbformat_minor": 4
}
