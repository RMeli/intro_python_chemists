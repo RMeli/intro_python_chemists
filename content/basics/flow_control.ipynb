{
 "cells": [
  {
   "cell_type": "markdown",
   "metadata": {},
   "source": [
    "# Flow control"
   ]
  },
  {
   "cell_type": "markdown",
   "metadata": {
    "hide_input": true
   },
   "source": [
    "Flow control is an aspect of python (and programming in general) that dictates the \"flow\" of data in an algorithm. The most fundamental of flow controls are the `if` and `else` statements.\n",
    "\n",
    "How flow controls allow us to manipulate date is best illustrated with an example.\n",
    "\n",
    "Imagine there is a chemist in a lab. The chemist is given a sample of lithium and a sample of sodium, but they do not know which sample is which. They are asked to determine which sample is lithium and which sample is sodium. The chemists remembers from their earlier studies that lithium burns red when placed in a flame. Therefore, the chemist writes the following algorithm to determine which sample is which:"
   ]
  },
  {
   "cell_type": "markdown",
   "metadata": {},
   "source": [
    "```python\n",
    "colour_of_flame = \n",
    "if colour_of_flame == \"red\":\n",
    "    print(\"The alkali metal is lithium\")\n",
    "else:\n",
    "    print(\"The alkali metal is sodium\")\n",
    "```"
   ]
  },
  {
   "cell_type": "markdown",
   "metadata": {},
   "source": [
    "Using the colour_of_flame variable they are able to determine the answer. The chemist burns a sample at random and the flame is yellow. The chemist uses the algorithm above to determine the alkali metal in this sample."
   ]
  },
  {
   "cell_type": "code",
   "execution_count": 1,
   "metadata": {
    "ExecuteTime": {
     "end_time": "2020-03-22T22:53:01.296225Z",
     "start_time": "2020-03-22T22:53:01.287965Z"
    }
   },
   "outputs": [
    {
     "name": "stdout",
     "output_type": "stream",
     "text": [
      "The alkali metal is sodium\n"
     ]
    }
   ],
   "source": [
    "colour_of_flame = \"yellow\"\n",
    "if colour_of_flame == \"red\":\n",
    "    print(\"The alkali metal is lithium\")\n",
    "else:\n",
    "    print(\"The alkali metal is sodium\")"
   ]
  },
  {
   "cell_type": "markdown",
   "metadata": {},
   "source": [
    "They determine that this sample, with a yellow flame, is sodium. Therefore the other sample is lithium. The chemist can now use these alkali metals in their experiments as they please.\n",
    "\n",
    "The clumsy chemist does, however, forget to label the samples. \n",
    "\n",
    "They come back three months later and have the same issue, but this time their equally clumsy lab partner has also put some potassium in the cupboard. How can flow controls help the chemist solve this problem? Well for more than two potential options they can use the `elif` statement. The chemist knows lithium burns red and, from the last time they had this issue, they know sodium burns yellow. The chemist writes the following algorithm to solve their predicament:"
   ]
  },
  {
   "cell_type": "markdown",
   "metadata": {
    "ExecuteTime": {
     "end_time": "2020-03-22T21:38:09.181316Z",
     "start_time": "2020-03-22T21:38:09.175081Z"
    }
   },
   "source": [
    "```python\n",
    "colour_of_flame =\n",
    "if colour_of_flame == \"red\":\n",
    "    print(\"The alkali metal is lithium\")\n",
    "elif colour_of_flame == \"yellow\":\n",
    "    print(\"The alkali metal is sodium\")\n",
    "else:\n",
    "    print(\"The alkali metal is potassium\")\n",
    "```"
   ]
  },
  {
   "cell_type": "markdown",
   "metadata": {},
   "source": [
    "They choose a sample at random and the colour of the flame is yellow. The chemist uses the algorithm below to determine the alkali metal is sodium like so"
   ]
  },
  {
   "cell_type": "code",
   "execution_count": 2,
   "metadata": {
    "ExecuteTime": {
     "end_time": "2020-03-22T22:53:01.305848Z",
     "start_time": "2020-03-22T22:53:01.299974Z"
    }
   },
   "outputs": [
    {
     "name": "stdout",
     "output_type": "stream",
     "text": [
      "The alkali metal is sodium\n"
     ]
    }
   ],
   "source": [
    "colour_of_flame = \"yellow\"\n",
    "if colour_of_flame == \"red\":\n",
    "    print(\"The alkali metal is lithium\")\n",
    "elif colour_of_flame == \"yellow\":\n",
    "    print(\"The alkali metal is sodium\")\n",
    "else:\n",
    "    print(\"The alkali metal is potassium\")"
   ]
  },
  {
   "cell_type": "markdown",
   "metadata": {},
   "source": [
    "Following this, they choose a sample at random from the two remaining samples and the colour of the flame produced is violet. Using the algorithm algorithm above, they determine"
   ]
  },
  {
   "cell_type": "code",
   "execution_count": 3,
   "metadata": {
    "ExecuteTime": {
     "end_time": "2020-03-22T22:53:01.314646Z",
     "start_time": "2020-03-22T22:53:01.308655Z"
    }
   },
   "outputs": [
    {
     "name": "stdout",
     "output_type": "stream",
     "text": [
      "The alkali metal is potassium\n"
     ]
    }
   ],
   "source": [
    "colour_of_flame = \"violet\"\n",
    "if colour_of_flame == \"red\":\n",
    "    print(\"The alkali metal is lithium\")\n",
    "elif colour_of_flame == \"yellow\":\n",
    "    print(\"The alkali metal is sodium\")\n",
    "else:\n",
    "    print(\"The alkali metal is potassium\")"
   ]
  },
  {
   "cell_type": "markdown",
   "metadata": {},
   "source": [
    "Again, they do not remember to label the samples and put all three samples back in the cupboard. The chemist comes back a further three months later and there are now five unlabelled samples in the cupboard for the five Group 1 alkali metals that are present in any significant quantities (Francium is exceedingly rare). \n",
    "\n",
    "The chemist does not remember the flame colours of rubidium and cesium. They ask for you to help them by writing an algorithm to help determine which sample is which using a flame test like previously illustrated. By conducting a bit of research you determine that the alkali metal flame colours are:\n",
    "\n",
    "- lithium : \"red\"\n",
    "- sodium : \"yellow\"\n",
    "- potassium : \"violet\"\n",
    "- rubidium : \"dark red\"\n",
    "- cesium : \"blue\"\n",
    "\n",
    "Exercise: using the `if`, `else`, and `elif` flow controls write an algorithm, similar to the ones above, to help the chemist determine which sample is which. "
   ]
  },
  {
   "cell_type": "code",
   "execution_count": 6,
   "metadata": {
    "ExecuteTime": {
     "end_time": "2020-03-22T22:54:34.582320Z",
     "start_time": "2020-03-22T22:54:34.579522Z"
    }
   },
   "outputs": [],
   "source": [
    "### Write your code here\n"
   ]
  },
  {
   "cell_type": "markdown",
   "metadata": {
    "ExecuteTime": {
     "end_time": "2020-03-22T22:49:03.264238Z",
     "start_time": "2020-03-22T22:49:03.256263Z"
    }
   },
   "source": [
    "### Why are these statements called flow controls?\n",
    "\n",
    "To understand why the `if`, `else` and `elif` statements are called flow controls, lets look at the flow charts for the two algorithms above. Recall that the first algorithm was"
   ]
  },
  {
   "cell_type": "markdown",
   "metadata": {},
   "source": [
    "```python\n",
    "colour_of_flame = \n",
    "if colour_of_flame == \"red\":\n",
    "    print(\"The alkali metal is lithium\")\n",
    "else:\n",
    "    print(\"The alkali metal is sodium\")\n",
    "```"
   ]
  },
  {
   "cell_type": "markdown",
   "metadata": {},
   "source": [
    "This can be represented by the flow chart below"
   ]
  },
  {
   "cell_type": "markdown",
   "metadata": {
    "ExecuteTime": {
     "end_time": "2020-03-23T08:50:39.254728Z",
     "start_time": "2020-03-23T08:50:39.250328Z"
    }
   },
   "source": [
    "<img src=\"../images/flowchart_1.png\" alt=\"drawing\" width=\"400\"/>"
   ]
  },
  {
   "cell_type": "markdown",
   "metadata": {},
   "source": [
    "The `if` statement in the algorithm is represented by the green diamond box. In flowcharts, diamond boxes represent when a decision has to be made. At the `if` statement the data can flow either right or down depending on the colour of the flame. In other words, the `if` statements dictates the flow of the algorithm. Similarly the second algorithm,"
   ]
  },
  {
   "cell_type": "markdown",
   "metadata": {
    "ExecuteTime": {
     "end_time": "2020-03-23T08:53:36.775633Z",
     "start_time": "2020-03-23T08:53:36.770799Z"
    }
   },
   "source": [
    "```python\n",
    "colour_of_flame =\n",
    "if colour_of_flame == \"red\":\n",
    "    print(\"The alkali metal is lithium\")\n",
    "elif colour_of_flame == \"yellow\":\n",
    "    print(\"The alkali metal is sodium\")\n",
    "else:\n",
    "    print(\"The alkali metal is potassium\")\n",
    "```"
   ]
  },
  {
   "cell_type": "markdown",
   "metadata": {},
   "source": [
    ", can be represented by the following flowchart"
   ]
  },
  {
   "cell_type": "markdown",
   "metadata": {},
   "source": [
    "<img src=\"../images/flowchart_2.png\" alt=\"drawing\" width=\"400\"/>"
   ]
  },
  {
   "cell_type": "markdown",
   "metadata": {},
   "source": [
    "There are two decisions to be made in this algorithm: one at the if statement and one at the elif statement. Therefore, there are two diamonds in this algorithm. Both the `if` and `elif` statements control the flow of the algorithm. \n",
    "\n",
    "Hopefully this tutorial has improved your understanding of flow controls and how to use them. Armed with flow controls you are now ready for the next tutorial on `and` and `or` statements."
   ]
  }
 ],
 "metadata": {
  "kernelspec": {
   "display_name": "Python 3",
   "language": "python",
   "name": "python3"
  },
  "language_info": {
   "codemirror_mode": {
    "name": "ipython",
    "version": 3
   },
   "file_extension": ".py",
   "mimetype": "text/x-python",
   "name": "python",
   "nbconvert_exporter": "python",
   "pygments_lexer": "ipython3",
   "version": "3.7.3"
  }
 },
 "nbformat": 4,
 "nbformat_minor": 4
}
