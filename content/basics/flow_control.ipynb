{
 "cells": [
  {
   "cell_type": "markdown",
   "metadata": {},
   "source": [
    "# Flow control"
   ]
  },
  {
   "cell_type": "markdown",
   "metadata": {
    "hide_input": true
   },
   "source": [
    "Flow control is an aspect of python (and programming in general) that dictates the \"flow\" of data in an algorithm. The most fundamental of flow controls are the `if` and `else` statements.\n",
    "\n",
    "How flow controls allow us to manipulate date is best illustrated with an example.\n",
    "\n",
    "Imagine you are in a lab. You are given a sample of lithium and a sample of sodium, but you do not know which sample is which. You are asked to determine which sample is lithium and which sample is sodium. You remember from your earlier studies that lithium burns red when placed in a flame. Therefore, you write the following algorithm to determine which sample is which:"
   ]
  },
  {
   "cell_type": "markdown",
   "metadata": {},
   "source": [
    "```python\n",
    "colour_of_flame = \n",
    "if colour_of_flame == \"red\":\n",
    "    print(\"The alkali metal is lithium\")\n",
    "else:\n",
    "    print(\"The alkali metal is sodium\")\n",
    "```"
   ]
  },
  {
   "cell_type": "markdown",
   "metadata": {},
   "source": [
    "Using the colour_of_flame variable you are able to determine the answer. You burn a sample at random and the flame is yellow. Lets use the algorithm above to determine the alkali metal in this sample."
   ]
  },
  {
   "cell_type": "code",
   "execution_count": 1,
   "metadata": {
    "ExecuteTime": {
     "end_time": "2020-03-22T22:53:01.296225Z",
     "start_time": "2020-03-22T22:53:01.287965Z"
    }
   },
   "outputs": [
    {
     "name": "stdout",
     "output_type": "stream",
     "text": [
      "The alkali metal is sodium\n"
     ]
    }
   ],
   "source": [
    "colour_of_flame = \"yellow\"\n",
    "if colour_of_flame == \"red\":\n",
    "    print(\"The alkali metal is lithium\")\n",
    "else:\n",
    "    print(\"The alkali metal is sodium\")"
   ]
  },
  {
   "cell_type": "markdown",
   "metadata": {},
   "source": [
    "You have determined that this sample, with a yellow flame, is sodium. Therefore the other sample is lithium. You can now use these alkali metals as you please.\n",
    "\n",
    "You do, however, forget to label the samples. \n",
    "\n",
    "You come back three months later and have the same issue, but this time your equally clumsy lab partner has also put some potassium in the cupboard. How can flow controls help us solve this problem? Well for more than two potential options we can use the `elif` statement. You know lithium burns red and, from the last time you had this issue, you know sodium burns yellow. You now write the following algorithm to solve your predicament:"
   ]
  },
  {
   "cell_type": "markdown",
   "metadata": {
    "ExecuteTime": {
     "end_time": "2020-03-22T21:38:09.181316Z",
     "start_time": "2020-03-22T21:38:09.175081Z"
    }
   },
   "source": [
    "```python\n",
    "colour_of_flame =\n",
    "if colour_of_flame == \"red\":\n",
    "    print(\"The alkali metal is lithium\")\n",
    "elif colour_of_flame == \"yellow\":\n",
    "    print(\"The alkali metal is sodium\")\n",
    "else:\n",
    "    print(\"The alkali metal is potassium\")\n",
    "```"
   ]
  },
  {
   "cell_type": "markdown",
   "metadata": {},
   "source": [
    "You choose a sample at random and the colour of the flame is yellow. You use the algorithm below to determine the alkali metal is sodium like so"
   ]
  },
  {
   "cell_type": "code",
   "execution_count": 2,
   "metadata": {
    "ExecuteTime": {
     "end_time": "2020-03-22T22:53:01.305848Z",
     "start_time": "2020-03-22T22:53:01.299974Z"
    }
   },
   "outputs": [
    {
     "name": "stdout",
     "output_type": "stream",
     "text": [
      "The alkali metal is sodium\n"
     ]
    }
   ],
   "source": [
    "colour_of_flame = \"yellow\"\n",
    "if colour_of_flame == \"red\":\n",
    "    print(\"The alkali metal is lithium\")\n",
    "elif colour_of_flame == \"yellow\":\n",
    "    print(\"The alkali metal is sodium\")\n",
    "else:\n",
    "    print(\"The alkali metal is potassium\")"
   ]
  },
  {
   "cell_type": "markdown",
   "metadata": {},
   "source": [
    "You choose a sample at random from the two remaining samples and the colour of the flame produced is violet. Using your algorithm, you determine"
   ]
  },
  {
   "cell_type": "code",
   "execution_count": 3,
   "metadata": {
    "ExecuteTime": {
     "end_time": "2020-03-22T22:53:01.314646Z",
     "start_time": "2020-03-22T22:53:01.308655Z"
    }
   },
   "outputs": [
    {
     "name": "stdout",
     "output_type": "stream",
     "text": [
      "The alkali metal is potassium\n"
     ]
    }
   ],
   "source": [
    "colour_of_flame = \"violet\"\n",
    "if colour_of_flame == \"red\":\n",
    "    print(\"The alkali metal is lithium\")\n",
    "elif colour_of_flame == \"yellow\":\n",
    "    print(\"The alkali metal is sodium\")\n",
    "else:\n",
    "    print(\"The alkali metal is potassium\")"
   ]
  },
  {
   "cell_type": "markdown",
   "metadata": {},
   "source": [
    "Again, you do not remember to label your samples and put all three samples back in the cupboard. You come back a further three months later and there are five samples in the cupboard for the five Group 1 alkali metals that are present in any significant quantities (Francium is exceedingly rare). By now you have done your research on alkali metals and know the alkali metal flame colours are:\n",
    "\n",
    "- lithium : \"red\"\n",
    "- sodium : \"yellow\"\n",
    "- potassium : \"violet\"\n",
    "- rubidium : \"dark red\"\n",
    "- cedium : \"blue\"\n",
    "\n",
    "Exercise: using the `if`, `else`, and `elif` flow controls write an algorithm, similar to the ones above, to help you determine which sample is which. "
   ]
  },
  {
   "cell_type": "code",
   "execution_count": 6,
   "metadata": {
    "ExecuteTime": {
     "end_time": "2020-03-22T22:54:34.582320Z",
     "start_time": "2020-03-22T22:54:34.579522Z"
    }
   },
   "outputs": [],
   "source": [
    "### Write your code here\n"
   ]
  },
  {
   "cell_type": "code",
   "execution_count": null,
   "metadata": {
    "ExecuteTime": {
     "end_time": "2020-03-22T22:49:03.264238Z",
     "start_time": "2020-03-22T22:49:03.256263Z"
    }
   },
   "outputs": [],
   "source": []
  }
 ],
 "metadata": {
  "kernelspec": {
   "display_name": "Python 3",
   "language": "python",
   "name": "python3"
  },
  "language_info": {
   "codemirror_mode": {
    "name": "ipython",
    "version": 3
   },
   "file_extension": ".py",
   "mimetype": "text/x-python",
   "name": "python",
   "nbconvert_exporter": "python",
   "pygments_lexer": "ipython3",
   "version": "3.7.3"
  }
 },
 "nbformat": 4,
 "nbformat_minor": 4
}
