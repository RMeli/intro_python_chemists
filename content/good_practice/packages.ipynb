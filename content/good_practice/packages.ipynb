{
 "cells": [
  {
   "cell_type": "markdown",
   "metadata": {},
   "source": [
    "# Packages"
   ]
  },
  {
   "cell_type": "markdown",
   "metadata": {},
   "source": [
    "### Pre-requisites\n",
    "\n",
    "* functions\n",
    "* types\n",
    "* collections\n",
    "* loops"
   ]
  },
  {
   "cell_type": "markdown",
   "metadata": {},
   "source": [
    "# Modules\n",
    "\n",
    "Before describing what a Python package is, we must first understand Python modules. We are now comfortable with writing simple Python code and may now want to write our first dedicated program. But what is the best way to set out our code? One of the key concepts in programming is the creation of simple and easy to maintain code, this is where modules come in. \n",
    "\n",
    "Instead of creating one large piece of code that can often be unweildy we can break it up into smaller chunks, or modules. Each module has a specific functionality that allows it to be reused without the need for duplicating code."
   ]
  },
  {
   "cell_type": "markdown",
   "metadata": {},
   "source": [
    "Below is an example module called `print_things.py`:"
   ]
  },
  {
   "cell_type": "markdown",
   "metadata": {},
   "source": [
    "```python\n",
    "def print_names(list_of_names):\n",
    "    for name in list_of_names:\n",
    "        print(name)\n",
    "\n",
    "def print_dictionary(input_dictionary):\n",
    "    for key, value in input_dictionary.items():\n",
    "        print(\"Key: \" + key + \", Value: \" + str(value))\n",
    "```"
   ]
  },
  {
   "cell_type": "markdown",
   "metadata": {},
   "source": [
    "Here, `elements.py` contains the objects:\n",
    "\n",
    "* `print_names()` \n",
    "* `print_dictionary()`\n",
    "\n",
    "which are both functions."
   ]
  },
  {
   "cell_type": "markdown",
   "metadata": {},
   "source": [
    "Great! We have made our module, but how can we go about using it? \n",
    "\n",
    "Python makes this really simple with the `import` statement. "
   ]
  },
  {
   "cell_type": "markdown",
   "metadata": {},
   "source": [
    "## Importing Modules\n",
    "\n"
   ]
  },
  {
   "cell_type": "markdown",
   "metadata": {},
   "source": [
    "In order to use our newly created module we need to `import` it into our main script:\n",
    "\n",
    "```python\n",
    "import print_things\n",
    "```\n",
    "\n",
    "Now, we can access the objects in the `print_things` module:\n",
    "\n",
    "\n",
    "\n",
    "\n"
   ]
  },
  {
   "cell_type": "code",
   "execution_count": 1,
   "metadata": {},
   "outputs": [
    {
     "output_type": "stream",
     "name": "stdout",
     "text": "Hydrogen\nHelium\nLithium\nKey: Hydrogen, Value: 1\nKey: Helium, Value: 2\nKey: Lithium, Value: 3\n"
    }
   ],
   "source": [
    "import print_things\n",
    "\n",
    "\n",
    "element_names = [\"Hydrogen\", \"Helium\", \"Lithium\"]\n",
    "element_protons = {\"Hydrogen\": 1, \"Helium\": 2, \"Lithium\": 3}\n",
    "\n",
    "print_things.print_names(element_names)\n",
    "\n",
    "print_things.print_dictionary(element_protons)"
   ]
  },
  {
   "cell_type": "markdown",
   "metadata": {},
   "source": [
    "### Using `from`"
   ]
  },
  {
   "cell_type": "markdown",
   "metadata": {},
   "source": [
    "An alternative to using `import` is to use the `from` statement. This allows us to select certain objects from our module rather than importing all of them in one go:"
   ]
  },
  {
   "cell_type": "code",
   "execution_count": 2,
   "metadata": {},
   "outputs": [
    {
     "output_type": "stream",
     "name": "stdout",
     "text": "Hydrogen\nHelium\nLithium\n"
    }
   ],
   "source": [
    "from print_things import print_names\n",
    "\n",
    "\n",
    "element_names = [\"Hydrogen\", \"Helium\", \"Lithium\"]\n",
    "\n",
    "print_things.print_names(element_names)"
   ]
  },
  {
   "cell_type": "markdown",
   "metadata": {},
   "source": [
    "However, if we do want to `import` all objects in our `print_things` module with the `from` statement we can do so like this:\n",
    "\n",
    "```python\n",
    "from print_things import *\n",
    "```\n",
    "\n",
    "If there are any modules that we don't want to be imported (i.e. that we only want to be used within the module itself), we can prefix them with an underscore (`_`).\n",
    "\n",
    "Another useful way to use both the `import` / `from` statements is to `import` modules and use an alternative name:\n",
    "\n",
    "```python\n",
    "from print_things import print_names as pn #  import print_names from the print_things module \n",
    "import print_things as pt  # import the whole print_things module\n",
    "``` "
   ]
  },
  {
   "cell_type": "code",
   "execution_count": null,
   "metadata": {},
   "outputs": [],
   "source": []
  }
 ],
 "metadata": {
  "kernelspec": {
   "display_name": "Python 3.7.3 64-bit",
   "language": "python",
   "name": "python37364bitd38a54fb656a4d2291427feb2f9b7184"
  },
  "language_info": {
   "codemirror_mode": {
    "name": "ipython",
    "version": 3
   },
   "file_extension": ".py",
   "mimetype": "text/x-python",
   "name": "python",
   "nbconvert_exporter": "python",
   "pygments_lexer": "ipython3",
   "version": "3.7.3-final"
  }
 },
 "nbformat": 4,
 "nbformat_minor": 2
}