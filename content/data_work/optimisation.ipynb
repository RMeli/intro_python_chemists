{
 "cells": [
  {
   "cell_type": "markdown",
   "metadata": {},
   "source": [
    "### Optimization\n",
    "\n",
    "It is a common problem in mathematics and chemistry to find the lowest value of a function, the **global minimum**. For example, the lowest configuration of a molecule is the one in which the energy of the molecule is minimized. Python can be used to find the minimum of a function. \n",
    "\n",
    "In this tutorial the utility of the minimize function from the scipy.optimize library will be illustrated for some simple mathematical functions. Some issues with the minimize function will also be highlighted to show limitations to its functionality. Its applicability to chemistry related problems will be explored in the next tutorial. \n",
    "\n",
    "The first step is importing the minimize function. "
   ]
  },
  {
   "cell_type": "code",
   "execution_count": 1,
   "metadata": {
    "ExecuteTime": {
     "end_time": "2020-03-24T11:55:38.392871Z",
     "start_time": "2020-03-24T11:55:37.819507Z"
    }
   },
   "outputs": [],
   "source": [
    "from scipy.optimize import minimize"
   ]
  },
  {
   "cell_type": "markdown",
   "metadata": {},
   "source": [
    "The function $f(x) = x^2$ takes the form"
   ]
  },
  {
   "cell_type": "markdown",
   "metadata": {},
   "source": [
    "<img src=\"../images/x_squared.png\" alt=\"drawing\" width=\"400\"/>"
   ]
  },
  {
   "cell_type": "markdown",
   "metadata": {
    "ExecuteTime": {
     "end_time": "2020-03-20T20:26:55.032661Z",
     "start_time": "2020-03-20T20:26:54.641798Z"
    }
   },
   "source": [
    "This clearly has a minimum at $x=0$. To find the minimum using the minimize functiom $f(x) = x^2$ must first be defined in python."
   ]
  },
  {
   "cell_type": "code",
   "execution_count": 2,
   "metadata": {
    "ExecuteTime": {
     "end_time": "2020-03-24T11:55:38.398627Z",
     "start_time": "2020-03-24T11:55:38.394952Z"
    }
   },
   "outputs": [],
   "source": [
    "def square(x):\n",
    "    \"\"\"\n",
    "    Description: a function that squares a number\n",
    "    \n",
    "    Args:\n",
    "    x (int/float): the number to be squared\n",
    "    \n",
    "    Returns:\n",
    "    x_squared (int/float): x squared\n",
    "    \"\"\"\n",
    "    x_squared = x**2\n",
    "    return(x_squared)"
   ]
  },
  {
   "cell_type": "markdown",
   "metadata": {},
   "source": [
    "Using the `square` function and an initial guess, the minimize function can be utilized. The requirements of the minimize function can be read in the documentation (https://docs.scipy.org/doc/scipy/reference/generated/scipy.optimize.minimize.html) or alternatively one could type `minimize?`. This will allow the user to view the function description. Let's arbitrarily choose an initial guess of $x = 4$, and use the minimize function."
   ]
  },
  {
   "cell_type": "code",
   "execution_count": 3,
   "metadata": {
    "ExecuteTime": {
     "end_time": "2020-03-24T11:55:38.407224Z",
     "start_time": "2020-03-24T11:55:38.401469Z"
    }
   },
   "outputs": [],
   "source": [
    "minimum_squared = minimize(square, 4)"
   ]
  },
  {
   "cell_type": "markdown",
   "metadata": {},
   "source": [
    "The output of the minimize function is stored in the minimum_squared variable. The information that is returned is"
   ]
  },
  {
   "cell_type": "code",
   "execution_count": 4,
   "metadata": {
    "ExecuteTime": {
     "end_time": "2020-03-24T11:55:38.420994Z",
     "start_time": "2020-03-24T11:55:38.409990Z"
    }
   },
   "outputs": [
    {
     "data": {
      "text/plain": [
       "      fun: 6.668345606604765e-17\n",
       " hess_inv: array([[0.5]])\n",
       "      jac: array([-1.43082657e-09])\n",
       "  message: 'Optimization terminated successfully.'\n",
       "     nfev: 12\n",
       "      nit: 3\n",
       "     njev: 4\n",
       "   status: 0\n",
       "  success: True\n",
       "        x: array([-8.16599388e-09])"
      ]
     },
     "execution_count": 4,
     "metadata": {},
     "output_type": "execute_result"
    }
   ],
   "source": [
    "minimum_squared"
   ]
  },
  {
   "cell_type": "markdown",
   "metadata": {},
   "source": [
    "This is a lot of information, but the three pieces of information that are of key importance are `fun`, `message`, and `x`. These represent:\n",
    "- `fun`: the value of the function at the solution given.\n",
    "- `message`: this will tell you whether the minimize function has converged on a solution\n",
    "- `x`: this is the solution the minimize function has found\n",
    "\n",
    "The solution that has been found is of the order $1 \\times 10^{-9}$, which is zero to the tolerence of the minimization function. So the minimize function has found the minimum correctly! In order to obtain the solution one can type:"
   ]
  },
  {
   "cell_type": "code",
   "execution_count": 5,
   "metadata": {
    "ExecuteTime": {
     "end_time": "2020-03-24T11:55:38.429673Z",
     "start_time": "2020-03-24T11:55:38.423461Z"
    }
   },
   "outputs": [
    {
     "data": {
      "text/plain": [
       "-8.165993881092959e-09"
      ]
     },
     "execution_count": 5,
     "metadata": {},
     "output_type": "execute_result"
    }
   ],
   "source": [
    "minimum_squared.x[0] #the [0] is required as our solution is stored in an array. We will see why later."
   ]
  },
  {
   "cell_type": "markdown",
   "metadata": {},
   "source": [
    "But what has the minimize function done to get from $x=4$ to the solution at $x=0$? Imagine placing a ball at $x=4$ on our graph then it will \"roll down the hill\" until it gets to the bottom as follows"
   ]
  },
  {
   "cell_type": "markdown",
   "metadata": {},
   "source": [
    "<img src=\"../images/x_squared_ball.png\" alt=\"drawing\" width=\"800\"/>"
   ]
  },
  {
   "cell_type": "markdown",
   "metadata": {},
   "source": [
    "This is in effect how the minimize function finds the minimum of a function. It follows the negative gradient \"down the hill\" until it reaches the bottom. "
   ]
  },
  {
   "cell_type": "markdown",
   "metadata": {},
   "source": [
    "$f(x)=x^2$ only has one minimum, what happens for functions with more than one minimum? Say the function $f(x)=(x+1)^2(x-1)^2$, which takes the form"
   ]
  },
  {
   "cell_type": "markdown",
   "metadata": {
    "ExecuteTime": {
     "end_time": "2020-03-20T21:08:33.361092Z",
     "start_time": "2020-03-20T21:08:33.356035Z"
    }
   },
   "source": [
    "<img src=\"../images/polynomial_1.png\" alt=\"drawing\" width=\"400\"/>"
   ]
  },
  {
   "cell_type": "markdown",
   "metadata": {},
   "source": [
    "This has two minima. One at +1 and one at -1. Where does the ball go now? Well it depends where the calculation starts or, in other words, what the initial guess is:"
   ]
  },
  {
   "cell_type": "markdown",
   "metadata": {},
   "source": [
    "<img src=\"../images/polynomial_1_ball.png\" alt=\"drawing\" width=\"800\"/>"
   ]
  },
  {
   "cell_type": "markdown",
   "metadata": {},
   "source": [
    "If the initial guess is less than 0 then the minimize function will obtain the minimum at $x=-1$ and if the initial guess is greater than 0 then the minimize function will obtain the minimum at $x=1$. We shall now test this prediction by writing a function for $f(x)=(x+1)^2(x-1)^2$ and using the minimize function:"
   ]
  },
  {
   "cell_type": "code",
   "execution_count": 6,
   "metadata": {
    "ExecuteTime": {
     "end_time": "2020-03-24T11:55:38.444697Z",
     "start_time": "2020-03-24T11:55:38.432063Z"
    }
   },
   "outputs": [
    {
     "name": "stdout",
     "output_type": "stream",
     "text": [
      "If we start at x=2, the minimum we find is x= 0.9999989561808204 and f(x) = 4.358229369988024e-12\n",
      "If we start at x=-2, the minimum we find is x= -0.9999989710772856 and f(x) = 4.23472345132519e-12\n"
     ]
    }
   ],
   "source": [
    "def example_polynomial(x):\n",
    "    \"\"\"\n",
    "    Description: a function that evaluates (x+1)(x+1)(x-1)(x-1)\n",
    "    \n",
    "    Args:\n",
    "    x (int/float): the number to be evaluated\n",
    "    \n",
    "    Returns:\n",
    "    evaluated_value (int/float): (x+1)(x+1)(x-1)(x-1)\n",
    "    \"\"\"\n",
    "    evaluated_value = (x+1)*(x+1)*(x-1)*(x-1)\n",
    "    return(evaluated_value)\n",
    "\n",
    "greater_than_minimum = minimize(example_polynomial, +2)\n",
    "less_than_minimum = minimize(example_polynomial, -2)\n",
    "\n",
    "print(\"If we start at x=2, the minimum we find is x=\", greater_than_minimum.x[0], \"and f(x) =\",greater_than_minimum.fun)\n",
    "print(\"If we start at x=-2, the minimum we find is x=\", less_than_minimum.x[0], \"and f(x) =\",less_than_minimum.fun)"
   ]
  },
  {
   "cell_type": "markdown",
   "metadata": {},
   "source": [
    "These are the solutions that one would expect from the rolling ball example. Here both minimum have a value of zero. What happens for function which have two minima that have different values though? This is the case for $f(x)=(2x+1)(x+1)(x-1)(x-2)$, which takes the form"
   ]
  },
  {
   "cell_type": "markdown",
   "metadata": {
    "ExecuteTime": {
     "end_time": "2020-03-20T21:31:47.507822Z",
     "start_time": "2020-03-20T21:31:47.501927Z"
    }
   },
   "source": [
    "<img src=\"../images/polynomial_2.png\" alt=\"drawing\" width=\"400\"/>"
   ]
  },
  {
   "cell_type": "markdown",
   "metadata": {},
   "source": [
    "Where will the ball roll to now? "
   ]
  },
  {
   "cell_type": "markdown",
   "metadata": {
    "ExecuteTime": {
     "end_time": "2020-03-20T21:38:50.815251Z",
     "start_time": "2020-03-20T21:38:50.807066Z"
    }
   },
   "source": [
    "<img src=\"../images/polynomial_2_ball.png\" alt=\"drawing\" width=\"800\"/>"
   ]
  },
  {
   "cell_type": "markdown",
   "metadata": {},
   "source": [
    "We will see if these predictions are correct by writing this polynomial as a function and initialising our minimization at $x=-3$ and $x=+3$."
   ]
  },
  {
   "cell_type": "code",
   "execution_count": 7,
   "metadata": {
    "ExecuteTime": {
     "end_time": "2020-03-24T11:55:38.461578Z",
     "start_time": "2020-03-24T11:55:38.447085Z"
    }
   },
   "outputs": [
    {
     "name": "stdout",
     "output_type": "stream",
     "text": [
      "If we start at x=3, the minimum we find is x= 1.6029119759082024 and f(x) = -2.620904951418587\n",
      "If we start at x=-3, the minimum we find is x= -0.7784457524125226 and f(x) = -0.6096677436637878\n"
     ]
    }
   ],
   "source": [
    "def second_example_polynomial(x):\n",
    "    \"\"\"\n",
    "    Description: a function that evaluates (2x+1)(x+1)(x-1)(x-2)\n",
    "    \n",
    "    Args:\n",
    "    x (int/float): the number to be evaluated\n",
    "    \n",
    "    Returns:\n",
    "    evaluated_value (int/float): (2x+1)(x+1)(x-1)(x-2)\n",
    "    \"\"\"\n",
    "    evaluated_value = (2*x+1)*(x+1)*(x-1)*(x-2)\n",
    "    return(evaluated_value)\n",
    "\n",
    "second_greater_than_minimum = minimize(second_example_polynomial, +3)\n",
    "second_less_than_minimum = minimize(second_example_polynomial, -3)\n",
    "\n",
    "print(\"If we start at x=3, the minimum we find is x=\", second_greater_than_minimum.x[0], \"and f(x) =\",second_greater_than_minimum.fun)\n",
    "print(\"If we start at x=-3, the minimum we find is x=\", second_less_than_minimum.x[0], \"and f(x) =\",second_less_than_minimum.fun)"
   ]
  },
  {
   "cell_type": "markdown",
   "metadata": {
    "ExecuteTime": {
     "end_time": "2020-03-20T21:48:28.872929Z",
     "start_time": "2020-03-20T21:48:28.866299Z"
    }
   },
   "source": [
    "These are the two minimum that are expected from $f(x)=(2x+1)(x+1)(x-1)(x-2)$. However, note than the value of $f(x)=(2x+1)(x+1)(x-1)(x-2)$ is lower at $x=1.602$. This is a very important observation. It is often preferable to find the **global minimum** which is the lowest value of $f(x)$. But, as can be seen by previous examples, the minimize algorithm can get stuck in **local minima**. This is the case for at $x=-0.778$ above, if the ball \"starts rolling\" in the wrong place. "
   ]
  },
  {
   "cell_type": "markdown",
   "metadata": {},
   "source": [
    "Up until now only functions of one variable, $f(x)$, have been considered. What about functions of two or more variables? Can the minimize function find the minima of those functions. Consider the simplest of these functions $g(x,y) = x^2 + y^2$ which takes the form"
   ]
  },
  {
   "cell_type": "markdown",
   "metadata": {},
   "source": [
    "<img src=\"../images/bowl.png\" alt=\"drawing\" width=\"400\"/>"
   ]
  },
  {
   "cell_type": "markdown",
   "metadata": {},
   "source": [
    "It may be difficult to see but $g(x,y) = x^2 + y^2$ is in essence a bowl. Where the bottom of the bowl is at $x=0, y=0$. But can the minimize function find this minimum? Yes, it can! Information just needs to be given to the minimize function in the correct format. \n",
    "\n",
    "**The minimize function can only optimize one variable**. How can two variables, $(x,y)$, be placed into one variable? A list is a good solution to this problem. Something of the form variables = [x,y] could be used. To illustrate this we will write a function to evaluate $g(x,y)$ and optimize it starting at $x=2,y=-2$ and see what result is obtained using the minimize function. "
   ]
  },
  {
   "cell_type": "code",
   "execution_count": 8,
   "metadata": {
    "ExecuteTime": {
     "end_time": "2020-03-24T11:55:38.485944Z",
     "start_time": "2020-03-24T11:55:38.464760Z"
    }
   },
   "outputs": [
    {
     "data": {
      "text/plain": [
       "      fun: 1.3999347093356855e-14\n",
       " hess_inv: array([[0.75000002, 0.25      ],\n",
       "       [0.25      , 0.74999998]])\n",
       "      jac: array([-1.63721946e-07, -1.40312156e-07])\n",
       "  message: 'Optimization terminated successfully.'\n",
       "     nfev: 12\n",
       "      nit: 2\n",
       "     njev: 3\n",
       "   status: 0\n",
       "  success: True\n",
       "        x: array([-8.93115537e-08, -7.76066587e-08])"
      ]
     },
     "execution_count": 8,
     "metadata": {},
     "output_type": "execute_result"
    }
   ],
   "source": [
    "def two_dimensional_polynomial(variables):\n",
    "    \"\"\"\n",
    "    Description: a function that evaluates x**2 + y**2\n",
    "    \n",
    "    Args:\n",
    "    variables (list): a kist containing x as the first item and y as the second item\n",
    "    \n",
    "    Returns:\n",
    "    evaluated_value (float/int): x**2 + y**2\n",
    "    \"\"\"\n",
    "    evaluated_value = variables[0]**2 + variables[1]**2\n",
    "    return(evaluated_value)\n",
    "\n",
    "two_dimensional_minimum = minimize(two_dimensional_polynomial, [2,-2])\n",
    "two_dimensional_minimum"
   ]
  },
  {
   "cell_type": "markdown",
   "metadata": {},
   "source": [
    "The minimize function has found the minimum successfully. The obtained x and y values are zero to within the tolerance of the minimize function. The solution is similarly stored in two_dimensional_minimum.x . **The order in which the solutions are stored is the same as the input into the function being minimized.** So two_dimensional_minimum.x[0] corresponds to the x value at the minimum and two_dimensional_minimum.x[1] corresponds to the y value at the minimum as this is the input order specified in two_dimensional_polynomial. \n",
    "\n",
    "**Exercise:** Write the function for the polynomial $h(x,y) = (x+1)^2(x-1)^2 + (y+1)^2(y-1)^2$, and use the minimize function to identify its four minima. Does $h(x,y)$ have a unique global minimum?\n",
    "\n",
    "Hint: $h(x,y)$ takes the form"
   ]
  },
  {
   "cell_type": "markdown",
   "metadata": {},
   "source": [
    "<img src=\"../images/polynomial_3.png\" alt=\"drawing\" width=\"400\"/>"
   ]
  },
  {
   "cell_type": "markdown",
   "metadata": {},
   "source": [
    "and has the corresponding contour plot"
   ]
  },
  {
   "cell_type": "markdown",
   "metadata": {},
   "source": [
    "<img src=\"../images/polynomial_3_contour.png\" alt=\"drawing\" width=\"400\"/>"
   ]
  },
  {
   "cell_type": "code",
   "execution_count": 9,
   "metadata": {
    "ExecuteTime": {
     "end_time": "2020-03-24T11:55:38.492399Z",
     "start_time": "2020-03-24T11:55:38.489459Z"
    }
   },
   "outputs": [],
   "source": [
    "### Write your code here"
   ]
  },
  {
   "cell_type": "markdown",
   "metadata": {},
   "source": [
    "The minimize function can be used in any number of dimensions, it is not limited to one and two. Infact, that is why the solutions are always stored in arrays. The minimize function is designed to work in multiple dimensions."
   ]
  },
  {
   "cell_type": "markdown",
   "metadata": {},
   "source": [
    "**Key take aways:**\n",
    "- it is possible to check if a minimize function has converged by checking the output information.\n",
    "- the minimize function solutions depend on your initial guess.\n",
    "- the minimize function can only optimize one variable, but can optimize more parameters by storing them in a list."
   ]
  },
  {
   "cell_type": "markdown",
   "metadata": {},
   "source": [
    "In the next tutorial, you will use what has been introduced here to assign proportions of chemicals from an experiment IR spectra that contains two chemicals. "
   ]
  },
  {
   "cell_type": "code",
   "execution_count": null,
   "metadata": {},
   "outputs": [],
   "source": []
  }
 ],
 "metadata": {
  "kernelspec": {
   "display_name": "Python 3",
   "language": "python",
   "name": "python3"
  },
  "language_info": {
   "codemirror_mode": {
    "name": "ipython",
    "version": 3
   },
   "file_extension": ".py",
   "mimetype": "text/x-python",
   "name": "python",
   "nbconvert_exporter": "python",
   "pygments_lexer": "ipython3",
   "version": "3.7.3"
  }
 },
 "nbformat": 4,
 "nbformat_minor": 2
}
