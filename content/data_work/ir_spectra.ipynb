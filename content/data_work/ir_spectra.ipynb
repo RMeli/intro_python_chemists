{
 "cells": [
  {
   "cell_type": "code",
   "execution_count": 1,
   "metadata": {},
   "outputs": [],
   "source": [
    "import numpy as np\n",
    "import matplotlib.pyplot as plt\n",
    "from scipy.stats import linregress\n",
    "from scipy.optimize import curve_fit, minimize"
   ]
  },
  {
   "cell_type": "markdown",
   "metadata": {},
   "source": [
    "# Exercise: Fitting IR spectra\n",
    "\n",
    "Prerequisites:\n",
    "\n",
    "* types\n",
    "* functions\n",
    "* containers\n",
    "* numpy \n",
    "* optimisation\n",
    "* io\n",
    "\n",
    "This is one of the *long-form* exercises in the book. \n",
    "The idea behind these are to introduce a particular problem, and then allow the space to work on it. \n",
    "\n",
    "In this exercise, your will get an introdcution into using Python to fit experimental data, using a process called model-dependent analysis. \n",
    "The specific application will be the anlaysis of an IR spectra from a mixture of organic species, however, hopefully you will recognise that the methods used herein are generalisable. \n",
    "\n",
    "## Aim \n",
    "\n",
    "You have been tasked with determining the relative composition of a mixture of two organic species; namely toluene and benyl alcohol. \n",
    "YOu have recognised, that using IR spectroscopy and some data analysis, it may be possible to evaluate this. \n",
    "\n",
    "## Reading in and plotting experimental data\n",
    "\n",
    "IR spectra of the two species in isolation were available online, from the [NIST Chemistry Webbook](https://webbook.nist.gov/chemistry/).\n",
    "These are available in the files `tolene.csv` and `benzyl_alcohol.csv`, these files consist of two columns the first is the wavenumber, $\\bar{\\nu}$, and the second is the transmittance ($T$). \n",
    "Referring to the previous section on [reading and writing data](./io.html), in the cell below, use [`np.loadtxt()`](https://docs.scipy.org/doc/numpy/reference/generated/numpy.loadtxt.html) to open these files and store the information in array objects. \n",
    "\n"
   ]
  },
  {
   "cell_type": "code",
   "execution_count": 2,
   "metadata": {},
   "outputs": [],
   "source": [
    "# Write your code here"
   ]
  },
  {
   "cell_type": "markdown",
   "metadata": {},
   "source": [
    "Having read the isolated data in, referring to the [plotting introduction](./simple_plots.html) if necessary, plot both of the isolated IR spectra on a single plot. "
   ]
  },
  {
   "cell_type": "code",
   "execution_count": 3,
   "metadata": {},
   "outputs": [],
   "source": [
    "# Write your code here"
   ]
  },
  {
   "cell_type": "markdown",
   "metadata": {},
   "source": [
    "With the isolated data read in and plotted, we now need the mixture data. \n",
    "This is stored in the file named `mixture.csv`, which in addition to the two columns that the other files have, has a third column containing information about the uncertainty in the transmittance ($\\mathrm{d}T$). \n",
    "Read this file in, and plot the data (and the uncertainties)."
   ]
  },
  {
   "cell_type": "code",
   "execution_count": 4,
   "metadata": {},
   "outputs": [],
   "source": [
    "# Write your code here"
   ]
  },
  {
   "cell_type": "markdown",
   "metadata": {},
   "source": [
    "Having plotted each of the three datasets, you should be able to identify features present in the mixture data that match those in the isolated datasets. \n",
    "Such as the large feature in the toulene isolated data that can be seen in the mixture data at around 3000 cm<sup>-1</sup>, and then at higher energy there is a broad feature in the benzyl alcohol isolated data between 3250 cm<sup>-1</sup> and 3750 cm<sup>-1</sup>, that can also be found in the experimental data.\n",
    "\n",
    "## Fitting\n",
    "\n",
    "You will hopefully have encounter data fitting before, for example when a straight line of best fit is applied to some experimental data points. \n",
    "This is shown below, where the blue dots are some discrete datapoints and the orange line is the line of best fit. \n",
    "In order to determine this line of best fit, we use a process called, we have a metric that we want to minimise which represents the difference between the data and the model (the straight line). "
   ]
  },
  {
   "cell_type": "code",
   "execution_count": 5,
   "metadata": {},
   "outputs": [
    {
     "data": {
      "image/png": "[encoded data removed]",
      "text/plain": [
       "<Figure size 432x288 with 1 Axes>"
      ]
     },
     "metadata": {
      "needs_background": "light"
     },
     "output_type": "display_data"
    }
   ],
   "source": [
    "x = np.array([1, 2, 3, 4, 5])\n",
    "y = np.array([0.9, 2.2, 2.7, 4.8, 4.6])\n",
    "\n",
    "plt.plot(x, y, 'o')\n",
    "# This function performs a linear regression\n",
    "# on the data x and y\n",
    "res = linregress(x, y)\n",
    "model = res.slope * x + res.intercept\n",
    "plt.plot(x, model, '-')\n",
    "plt.show()"
   ]
  },
  {
   "cell_type": "markdown",
   "metadata": {},
   "source": [
    "This minimisation can be achieved for a straight line model through, linear regression, a mathematical operation which minimises the squared-residuals for each point. \n",
    "The residuals are the difference between the model (the straight line) and the data. "
   ]
  },
  {
   "cell_type": "code",
   "execution_count": 6,
   "metadata": {},
   "outputs": [
    {
     "data": {
      "image/png": "[encoded data removed]",
      "text/plain": [
       "<Figure size 432x288 with 1 Axes>"
      ]
     },
     "metadata": {
      "needs_background": "light"
     },
     "output_type": "display_data"
    }
   ],
   "source": [
    "sq_resid = np.square(y - model)\n",
    "plt.plot(x, sq_resid, 'o')\n",
    "plt.show()"
   ]
  },
  {
   "cell_type": "markdown",
   "metadata": {},
   "source": [
    "In order to describe this with a single value to minimise, we typically talk about minimising the **sum** of the square-residuals, which is sometimes referred to as $\\chi^2$. "
   ]
  },
  {
   "cell_type": "code",
   "execution_count": 7,
   "metadata": {},
   "outputs": [
    {
     "name": "stdout",
     "output_type": "stream",
     "text": [
      "chi^2 = 0.932\n"
     ]
    }
   ],
   "source": [
    "print('chi^2 = {:0.3f}'.format(np.sum(sq_resid)))"
   ]
  },
  {
   "cell_type": "markdown",
   "metadata": {},
   "source": [
    "> The reason that a square is taken of the residuals, rather than just the absolute value is to put a greater emphasis on outlying datapoints, such as the 4th point in the example above. \n",
    "\n",
    "The closer the $\\chi^2$ value is to 0, the better the agreement between the model and the data. \n",
    "\n",
    "Define a function, to calculate the $\\chi^2$ between a IR spectra of an isolated compound and the mixture data, you won't be able to use it yet."
   ]
  },
  {
   "cell_type": "code",
   "execution_count": 8,
   "metadata": {},
   "outputs": [],
   "source": [
    "# Write your code here"
   ]
  },
  {
   "cell_type": "markdown",
   "metadata": {},
   "source": [
    "## Interpolation\n",
    "\n",
    "In the plots you have produced earlier, you might be able to notice that the vales for wavenumber that are measured in each spectra are not the sam. \n",
    "This can be seen clearly if we print the minimum and maximum values for each spectra. \n",
    "These can be accessed using the [`np.amin()`](https://docs.scipy.org/doc/numpy/reference/generated/numpy.amin.html#numpy.amin) and [`np.amax()`](https://docs.scipy.org/doc/numpy/reference/generated/numpy.amax.html#numpy.amax) functions."
   ]
  },
  {
   "cell_type": "code",
   "execution_count": 9,
   "metadata": {},
   "outputs": [],
   "source": [
    "# Write your code here"
   ]
  },
  {
   "cell_type": "markdown",
   "metadata": {},
   "source": [
    "In order to determine the $\\chi^2$-value between our model (outlined later) and the data (the mixture), it is necessary that the positions on the $x$-axis for the two are the same. \n",
    "Additionaly, since our model will be created form mixing the toulene and benzyl alcohol spectra, we will need to normalised these $x$-axes. \n",
    "This technique of this is referred to as **interpolation**.\n",
    "\n",
    "Interpolation is where we determine new data points within the range of a discrete set of known points. \n",
    "Essentially we use what we know about the $x$- and $y$-data and have an educated guess at the $y$-values for a different set of $x$-values. It is important that the new range of $x$ values is from within the exisiting range, or else we are [extrapolating](https://xkcd.com/605/), which can be very inaccurate. \n",
    "For the data in this exercise, the range of the mixture data lies within the other two datasets, therefore we will use the wavenumber values from the mixture and interpolate new values for the isolated materials. \n",
    "\n",
    "To interpolate new $y$-values, we will use the [`np.interp()` function](https://docs.scipy.org/doc/numpy/reference/generated/numpy.interp.html). \n",
    "This function takes three arguments, the new $x$-axis, the old $x$-axis, and the old $y$-axis values, and it will return a new set of $y$-axis values.\n",
    "\n",
    "In the cell below, interpolate new sets of $y$-values for the two isolated datasets, for the $x$-axis values from the mixture dataset. \n",
    "Then calculate the $\\chi^2$-value for each pure isolated IR spectra with the mixture data. "
   ]
  },
  {
   "cell_type": "code",
   "execution_count": 10,
   "metadata": {},
   "outputs": [],
   "source": [
    "# Write your code here"
   ]
  },
  {
   "cell_type": "markdown",
   "metadata": {},
   "source": [
    "Now, plot your interpolated data alongside the original data to ensure that the interpolation has been accurate. "
   ]
  },
  {
   "cell_type": "code",
   "execution_count": 11,
   "metadata": {},
   "outputs": [],
   "source": [
    "# Write your code here"
   ]
  },
  {
   "cell_type": "markdown",
   "metadata": {},
   "source": [
    "## Fitting real data\n",
    "\n",
    "In the example shown previously, we were not working with \"real\" data, as there was no uncertainty on the measurement. \n",
    "However, if we compare the slope of the straight line from the previous example to that where some uncertainty is present, there is a small, but important change. "
   ]
  },
  {
   "cell_type": "code",
   "execution_count": 12,
   "metadata": {},
   "outputs": [
    {
     "data": {
      "image/png": "[encoded data removed]",
      "text/plain": [
       "<Figure size 432x288 with 1 Axes>"
      ]
     },
     "metadata": {
      "needs_background": "light"
     },
     "output_type": "display_data"
    }
   ],
   "source": [
    "x = np.array([1, 2, 3, 4, 5])\n",
    "y = np.array([0.9, 2.2, 2.7, 4.8, 4.6])\n",
    "dy = np.array([0.1, 0.3, 0.3, 0.5, 0.5])\n",
    "\n",
    "def straight_line(x, m, c):\n",
    "    return m * x + c\n",
    "\n",
    "plt.errorbar(x, y, dy, marker='o', ls='')\n",
    "# This function performs fits a straight\n",
    "# line, including uncertainties\n",
    "popt, pcov = curve_fit(straight_line, x, y, sigma=dy)\n",
    "model = popt[0] * x + popt[1]\n",
    "plt.plot(x, model, '-')\n",
    "plt.show()"
   ]
  },
  {
   "cell_type": "code",
   "execution_count": 13,
   "metadata": {},
   "outputs": [
    {
     "name": "stdout",
     "output_type": "stream",
     "text": [
      "Without uncertainties the gradient is 1.000\n",
      "With uncertainties the gradient is 1.026\n"
     ]
    }
   ],
   "source": [
    "print('Without uncertainties the gradient is {:.3f}'.format(res.slope))\n",
    "print('With uncertainties the gradient is {:.3f}'.format(popt[0]))"
   ]
  },
  {
   "cell_type": "markdown",
   "metadata": {},
   "source": [
    "In order to consider the uncertainty, there is a slight modification to the $\\chi^2$-calculation, where the square residual is divided by the uncertainty,\n",
    "\n",
    "$$ \\chi^2 = \\sum_{i=1}^{N}\\bigg[\\frac{y_{\\mathrm{model}, i} - y_{\\mathrm{exp}, i}}{\\mathrm{d}y_{\\mathrm{exp}, i}}\\bigg]^2, $$\n",
    "\n",
    "where $y_{\\mathrm{model}, i}$ is the model value at $i$, $y_{\\mathrm{exp}, i}$ is the experimental value at $i$, $\\mathrm{d}y_{\\mathrm{exp}, i}$ is the uncertainty at $i$, and $N$ is the number of points in the dataset. \n",
    "\n",
    "In the cell below, define a new function to calculate the $\\chi^2$ value for **real** data."
   ]
  },
  {
   "cell_type": "code",
   "execution_count": 14,
   "metadata": {},
   "outputs": [],
   "source": [
    "# Write your code here"
   ]
  },
  {
   "cell_type": "markdown",
   "metadata": {},
   "source": [
    "## Our model\n",
    "\n",
    "Now that all three datasets are on the same axis and we undestand how uncertainties should be included in a data fitting process, it is necessary to define our model. \n",
    "We know that the mixture data contains only toluene and benzyl alcohol, therefore, we can *simulate* the expected IR transmission of a mixture of these through a simple linear combination. \n",
    "\n",
    "$$ T_{\\mathrm{mix}} = cT_{\\mathrm{toluene}} + (1 - c) T_{\\mathrm{benzyl alcohol}}, $$\n",
    "\n",
    "where $c$ is the fractional composition of toluene, and hence $1-c$ is the fractional composition of benzyl alcohol. \n",
    "\n",
    "Write a function that evaluates the mixture equation above in the cell below, and test it by plotting the spectra that would result from a 10:90 mixture along with the measured mixture spectra. "
   ]
  },
  {
   "cell_type": "code",
   "execution_count": 15,
   "metadata": {},
   "outputs": [],
   "source": [
    "# Write your code here"
   ]
  },
  {
   "cell_type": "markdown",
   "metadata": {},
   "source": [
    "A 10:90 mixture of the components doesn't do a very good job of modelling the observed mixture data, therefore we need to optimise this, by minimising the $\\chi^2$-value. \n",
    "Using what you learned in the [Optimisation](./optimisation.html) section, in the cell below, use `scipy.optimize.minimize` to obtain the optimum value for $c$. \n",
    "In order to achieve this, you will have to re-write your $\\chi^2$ function such that $c$ is an input argument. "
   ]
  },
  {
   "cell_type": "code",
   "execution_count": 16,
   "metadata": {},
   "outputs": [],
   "source": [
    "# Write your code here"
   ]
  }
 ],
 "metadata": {
  "kernelspec": {
   "display_name": "Python 3",
   "language": "python",
   "name": "python3"
  },
  "language_info": {
   "codemirror_mode": {
    "name": "ipython",
    "version": 3
   },
   "file_extension": ".py",
   "mimetype": "text/x-python",
   "name": "python",
   "nbconvert_exporter": "python",
   "pygments_lexer": "ipython3",
   "version": "3.7.6"
  }
 },
 "nbformat": 4,
 "nbformat_minor": 4
}
